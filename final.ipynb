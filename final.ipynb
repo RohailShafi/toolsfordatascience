{
 "cells": [
  {
   "cell_type": "markdown",
   "metadata": {},
   "source": [
    "# Rohail"
   ]
  },
  {
   "cell_type": "markdown",
   "metadata": {},
   "source": [
    "I'm Rohail Ahmad from Pakistan"
   ]
  },
  {
   "cell_type": "markdown",
   "metadata": {},
   "source": [
    "# Data Science Languages\n",
    "1. Python\n",
    "2. R\n",
    "3. Julia\n",
    "4. Java\n",
    "5. SQL\n",
    "6. JavaScript\n",
    "7. Scala\n",
    "8. MATLAB\n",
    "9. Perl"
   ]
  },
  {
   "cell_type": "markdown",
   "metadata": {},
   "source": [
    "|No. |Tool Name|\n",
    "|-----|--------|\n",
    "|1    |RapidMiner|\n",
    "|2    |Apache Spark|\n",
    "|3    |KNIME       |\n",
    "|4    |Weka         |\n",
    "|5    |Apache Hadoop|\n",
    "|6    |Excel        |\n",
    "|7    |SaaS         |\n",
    "|8    |Tabalue     |\n",
    "|9    |Power BI    |\n"
   ]
  },
  {
   "cell_type": "markdown",
   "metadata": {},
   "source": [
    "# Data Science Libraries\n",
    "1. Pandas\n",
    "2. Numpy\n",
    "3. Scipy\n",
    "4. Matplotlib\n",
    "5. Scikit-learn\n",
    "6. Seaborn"
   ]
  },
  {
   "cell_type": "markdown",
   "metadata": {},
   "source": [
    "aritmetic expression example\n",
    "<br> 3*6(4+5)/5"
   ]
  },
  {
   "cell_type": "code",
   "execution_count": 2,
   "metadata": {},
   "outputs": [
    {
     "data": {
      "text/plain": [
       "19.8"
      ]
     },
     "execution_count": 2,
     "metadata": {},
     "output_type": "execute_result"
    }
   ],
   "source": [
    "3*6+(4+5)/5"
   ]
  },
  {
   "cell_type": "code",
   "execution_count": 3,
   "metadata": {},
   "outputs": [
    {
     "data": {
      "text/plain": [
       "6.666666666666667"
      ]
     },
     "execution_count": 3,
     "metadata": {},
     "output_type": "execute_result"
    }
   ],
   "source": [
    "minutes = 400\n",
    "hours = minutes/60\n",
    "hours "
   ]
  },
  {
   "cell_type": "markdown",
   "metadata": {},
   "source": [
    "# list of objectives\n",
    "- learning pyton\n",
    "- learning JavaScript\n",
    "- MERN Stack\n",
    "- Data Scientist"
   ]
  },
  {
   "cell_type": "markdown",
   "metadata": {},
   "source": [
    "---\n",
    "\n",
    "author: Rohail Ahmad\n",
    "\n",
    "---"
   ]
  },
  {
   "cell_type": "code",
   "execution_count": null,
   "metadata": {},
   "outputs": [],
   "source": []
  }
 ],
 "metadata": {
  "kernelspec": {
   "display_name": "Python 3",
   "language": "python",
   "name": "python3"
  },
  "language_info": {
   "codemirror_mode": {
    "name": "ipython",
    "version": 3
   },
   "file_extension": ".py",
   "mimetype": "text/x-python",
   "name": "python",
   "nbconvert_exporter": "python",
   "pygments_lexer": "ipython3",
   "version": "3.11.4"
  }
 },
 "nbformat": 4,
 "nbformat_minor": 2
}
